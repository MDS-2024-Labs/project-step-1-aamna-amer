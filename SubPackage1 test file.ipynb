{
 "cells": [
  {
   "cell_type": "code",
   "execution_count": 1,
   "id": "5a67b609-d30c-40e0-b3ce-86b2739b4371",
   "metadata": {},
   "outputs": [],
   "source": [
    "#import Personal Summary class from Personal Summary module\n",
    "from package.subpckg1.PersonalSummary import PersonalSummary"
   ]
  },
  {
   "cell_type": "code",
   "execution_count": 2,
   "id": "7b03721c-dbf4-4610-9b44-c090df305473",
   "metadata": {},
   "outputs": [],
   "source": [
    "#will use client initials as variable to store information\n",
    "JD = PersonalSummary()"
   ]
  },
  {
   "cell_type": "code",
   "execution_count": 3,
   "id": "4b70326f-6c52-4c67-a0e5-7ec90a409200",
   "metadata": {},
   "outputs": [
    {
     "name": "stdin",
     "output_type": "stream",
     "text": [
      "Enter your name: Ahmad Amer\n",
      "Enter your height in cm 173\n",
      "Enter your weight in kg 90\n",
      "Enter your age 25\n",
      "Enter your gender, M or F M\n"
     ]
    }
   ],
   "source": [
    "#collect key information\n",
    "JD.collect_info()"
   ]
  },
  {
   "cell_type": "code",
   "execution_count": 4,
   "id": "2a6a706d-229a-4631-b7e7-86557bbd42d2",
   "metadata": {},
   "outputs": [
    {
     "name": "stdout",
     "output_type": "stream",
     "text": [
      "+------------+-------+----------+----------+----------+-------+\n",
      "|    Name    |  Age  |  Height  |  Weight  |  Gender  |  BMI  |\n",
      "+============+=======+==========+==========+==========+=======+\n",
      "| Ahmad Amer |  25   |   173    |    90    |    M     |  30   |\n",
      "+------------+-------+----------+----------+----------+-------+\n"
     ]
    }
   ],
   "source": [
    "#display personal summary\n",
    "JD.display_ps()"
   ]
  },
  {
   "cell_type": "code",
   "execution_count": 5,
   "id": "e7eadb45-ce12-4460-a056-c1d57b8641ec",
   "metadata": {},
   "outputs": [],
   "source": [
    "#import EnergyRequirements class from EnergyRequirements module\n",
    "from package.subpckg1.EnergyRequirements import EnergyRequirements"
   ]
  },
  {
   "cell_type": "code",
   "execution_count": 6,
   "id": "3d6bdb47-253e-45de-af1a-b9c8f6a6c44c",
   "metadata": {},
   "outputs": [],
   "source": [
    "MJ = EnergyRequirements()"
   ]
  },
  {
   "cell_type": "code",
<<<<<<< HEAD
   "execution_count": null,
=======
   "execution_count": 7,
>>>>>>> 0de86babaa8d186a0c85834a7fa1a081aecf3193
   "id": "8df793ef-0fab-44dd-90a9-02af1b0fffb6",
   "metadata": {},
   "outputs": [
    {
     "name": "stdin",
     "output_type": "stream",
     "text": [
      "Enter your name: Ahmad Amer\n"
     ]
    }
   ],
   "source": [
    "#has access to PersonalSummary methods due to inheritance\n",
    "MJ.collect_info()"
   ]
  },
  {
   "cell_type": "code",
   "execution_count": 8,
   "id": "199b3059-c029-4261-8946-23051ce6090f",
   "metadata": {},
   "outputs": [
    {
     "name": "stdout",
     "output_type": "stream",
     "text": [
      "+-----------+-------+----------+----------+----------+-------+\n",
      "|   Name    |  Age  |  Height  |  Weight  |  Gender  |  BMI  |\n",
      "+===========+=======+==========+==========+==========+=======+\n",
      "| Mary Jane |  20   |   150    |    55    |    F     |  24   |\n",
      "+-----------+-------+----------+----------+----------+-------+\n"
     ]
    }
   ],
   "source": [
    "MJ.display_ps()"
   ]
  },
  {
   "cell_type": "code",
   "execution_count": 9,
   "id": "90dd3724-e826-44df-8e99-51f9cabfa520",
   "metadata": {},
   "outputs": [
    {
     "data": {
      "text/plain": [
       "1227.55"
      ]
     },
     "execution_count": 9,
     "metadata": {},
     "output_type": "execute_result"
    }
   ],
   "source": [
    "#access EnergyRequirements methods\n",
    "MJ.calculate_RMR()"
   ]
  },
  {
   "cell_type": "code",
<<<<<<< HEAD
   "execution_count": 7,
=======
   "execution_count": 10,
>>>>>>> 0de86babaa8d186a0c85834a7fa1a081aecf3193
   "id": "ea0ffb77-7190-4e0b-8c04-3d3ab7f8aa3a",
   "metadata": {},
   "outputs": [
    {
<<<<<<< HEAD
     "ename": "AttributeError",
     "evalue": "'PersonalSummary' object has no attribute 'activity_level'",
     "output_type": "error",
     "traceback": [
      "\u001b[0;31m---------------------------------------------------------------------------\u001b[0m",
      "\u001b[0;31mAttributeError\u001b[0m                            Traceback (most recent call last)",
      "Cell \u001b[0;32mIn[7], line 1\u001b[0m\n\u001b[0;32m----> 1\u001b[0m JD\u001b[38;5;241m.\u001b[39mactivity_level()\n",
      "\u001b[0;31mAttributeError\u001b[0m: 'PersonalSummary' object has no attribute 'activity_level'"
=======
     "name": "stdout",
     "output_type": "stream",
     "text": [
      "Please pick the appropriate activity level:\n",
      "+-------------------+----------------------------------------------------+\n",
      "| Activity Level    | Description                                        |\n",
      "+===================+====================================================+\n",
      "| Sedentary         | little to no activity                              |\n",
      "+-------------------+----------------------------------------------------+\n",
      "| Lightly Active    | 1-3 days per week of light activity                |\n",
      "+-------------------+----------------------------------------------------+\n",
      "| Moderately Active | moderate exercise 3-5 days per week                |\n",
      "+-------------------+----------------------------------------------------+\n",
      "| Very Active       | rigorous exercise, 6-7 days per week               |\n",
      "+-------------------+----------------------------------------------------+\n",
      "| Extra Active      | professional athlete, labor job, 2-3 times per day |\n",
      "+-------------------+----------------------------------------------------+\n"
     ]
    },
    {
     "name": "stdin",
     "output_type": "stream",
     "text": [
      "Activity Level: Moderately Active\n"
>>>>>>> 0de86babaa8d186a0c85834a7fa1a081aecf3193
     ]
    }
   ],
   "source": [
    "JD.activity_level()"
   ]
  },
  {
   "cell_type": "code",
   "execution_count": 11,
   "id": "7d034680-c06e-4c1a-a86f-8004533a324f",
   "metadata": {},
   "outputs": [
    {
     "name": "stdout",
     "output_type": "stream",
     "text": [
      "Please pick the appropriate activity level:\n",
      "+-------------------+----------------------------------------------------+\n",
      "| Activity Level    | Description                                        |\n",
      "+===================+====================================================+\n",
      "| Sedentary         | little to no activity                              |\n",
      "+-------------------+----------------------------------------------------+\n",
      "| Lightly Active    | 1-3 days per week of light activity                |\n",
      "+-------------------+----------------------------------------------------+\n",
      "| Moderately Active | moderate exercise 3-5 days per week                |\n",
      "+-------------------+----------------------------------------------------+\n",
      "| Very Active       | rigorous exercise, 6-7 days per week               |\n",
      "+-------------------+----------------------------------------------------+\n",
      "| Extra Active      | professional athlete, labor job, 2-3 times per day |\n",
      "+-------------------+----------------------------------------------------+\n"
     ]
    },
    {
     "name": "stdin",
     "output_type": "stream",
     "text": [
<<<<<<< HEAD
      "Activity Level: Moderately Active\n"
     ]
    },
    {
     "name": "stdout",
     "output_type": "stream",
     "text": [
      "Your maintenance calories are  1903\n"
     ]
    }
   ],
   "source": [
    "#calculate_TDEE will always ask for activity level so when making client, can skip activity_level method\n",
    "MJ.calculate_TDEE()"
   ]
  },
  {
   "cell_type": "code",
   "execution_count": 1,
   "id": "772c6f00-aebf-4a64-a1a6-36eb0854d497",
   "metadata": {},
   "outputs": [],
   "source": [
    "#import Goals class from Goals module\n",
    "from package.subpckg1.Goals import Goals"
   ]
  },
  {
   "cell_type": "code",
   "execution_count": 2,
   "id": "4fe9e04d-6892-49ce-beb2-f79d58f9cf8f",
   "metadata": {},
   "outputs": [],
   "source": [
    "BS_goals = Goals()"
   ]
  },
  {
   "cell_type": "code",
   "execution_count": 3,
   "id": "5df2db40-474e-4e01-b9e0-b2191a472ce0",
   "metadata": {},
   "outputs": [
    {
     "name": "stdin",
     "output_type": "stream",
     "text": [
      "Enter your name: Ahmad Amer\n",
      "Enter your height in cm 173\n",
      "Enter your weight in kg 90\n",
      "Enter your age 25\n",
      "Enter your gender, M or F M\n"
     ]
    },
    {
     "name": "stdout",
     "output_type": "stream",
     "text": [
      "Please pick the appropriate activity level:\n",
      "+-------------------+----------------------------------------------------+\n",
      "| Activity Level    | Description                                        |\n",
      "+===================+====================================================+\n",
      "| Sedentary         | little to no activity                              |\n",
      "+-------------------+----------------------------------------------------+\n",
      "| Lightly Active    | 1-3 days per week of light activity                |\n",
      "+-------------------+----------------------------------------------------+\n",
      "| Moderately Active | moderate exercise 3-5 days per week                |\n",
      "+-------------------+----------------------------------------------------+\n",
      "| Very Active       | rigorous exercise, 6-7 days per week               |\n",
      "+-------------------+----------------------------------------------------+\n",
      "| Extra Active      | professional athlete, labor job, 2-3 times per day |\n",
      "+-------------------+----------------------------------------------------+\n"
     ]
    },
    {
     "name": "stdin",
     "output_type": "stream",
     "text": [
=======
>>>>>>> 0de86babaa8d186a0c85834a7fa1a081aecf3193
      "Activity Level: Moderately Active\n"
     ]
    },
    {
     "name": "stdout",
     "output_type": "stream",
     "text": [
<<<<<<< HEAD
      "Your maintenance calories are  2887\n"
=======
      "Your maintenance calories are  1903\n"
     ]
    }
   ],
   "source": [
    "#calculate_TDEE will always ask for activity level so when making client, can skip activity_level method\n",
    "MJ.calculate_TDEE()"
   ]
  },
  {
   "cell_type": "code",
   "execution_count": 3,
   "id": "772c6f00-aebf-4a64-a1a6-36eb0854d497",
   "metadata": {},
   "outputs": [],
   "source": [
    "#import Goals class from Goals module\n",
    "from package.subpckg1.Goals import Goals"
   ]
  },
  {
   "cell_type": "code",
   "execution_count": 4,
   "id": "4fe9e04d-6892-49ce-beb2-f79d58f9cf8f",
   "metadata": {},
   "outputs": [],
   "source": [
    "BS_goals = Goals()"
   ]
  },
  {
   "cell_type": "code",
   "execution_count": 5,
   "id": "5df2db40-474e-4e01-b9e0-b2191a472ce0",
   "metadata": {},
   "outputs": [
    {
     "name": "stdin",
     "output_type": "stream",
     "text": [
      "Enter your name: Bob Smith\n",
      "Enter your height in cm 200\n",
      "Enter your weight in kg 75\n",
      "Enter your age 20\n",
      "Enter your gender, M or F M\n"
     ]
    },
    {
     "name": "stdout",
     "output_type": "stream",
     "text": [
      "Please pick the appropriate activity level:\n",
      "+-------------------+----------------------------------------------------+\n",
      "| Activity Level    | Description                                        |\n",
      "+===================+====================================================+\n",
      "| Sedentary         | little to no activity                              |\n",
      "+-------------------+----------------------------------------------------+\n",
      "| Lightly Active    | 1-3 days per week of light activity                |\n",
      "+-------------------+----------------------------------------------------+\n",
      "| Moderately Active | moderate exercise 3-5 days per week                |\n",
      "+-------------------+----------------------------------------------------+\n",
      "| Very Active       | rigorous exercise, 6-7 days per week               |\n",
      "+-------------------+----------------------------------------------------+\n",
      "| Extra Active      | professional athlete, labor job, 2-3 times per day |\n",
      "+-------------------+----------------------------------------------------+\n"
     ]
    },
    {
     "name": "stdin",
     "output_type": "stream",
     "text": [
      "Activity Level: Very Active\n"
     ]
    },
    {
     "name": "stdout",
     "output_type": "stream",
     "text": [
      "Your maintenance calories are  3288\n"
>>>>>>> 0de86babaa8d186a0c85834a7fa1a081aecf3193
     ]
    }
   ],
   "source": [
    "#Collecting personal info\n",
    "\n",
    "BS_goals.collect_info()    #Inherited from PersonalSummary\n",
    "BS_goals.calculate_TDEE()  #Inherited from EnergyRequirements\n"
   ]
  },
  {
   "cell_type": "code",
   "execution_count": 4,
   "id": "2321a639-239e-49ac-a0be-377025217f42",
   "metadata": {},
   "outputs": [
    {
     "name": "stdin",
     "output_type": "stream",
     "text": [
      "What is your main goal: weight loss or weight gain? weight loss\n",
      "How much weight do you want to lose? Please enter in lbs 30\n",
      "By when do you want to acheive this? Please answer in days 180\n"
     ]
    }
   ],
   "source": [
    "#Setting weight goal\n",
    "BS_goals.goal_setting() "
   ]
  },
  {
   "cell_type": "code",
   "execution_count": 5,
   "id": "6cd6e869-03e8-45fe-94a5-115ce9333248",
   "metadata": {},
   "outputs": [
    {
     "name": "stdout",
     "output_type": "stream",
     "text": [
<<<<<<< HEAD
      "Your new daily caloric intake is  2303\n"
=======
      "Your new daily caloric intake is  3579\n"
>>>>>>> 0de86babaa8d186a0c85834a7fa1a081aecf3193
     ]
    },
    {
     "data": {
      "text/plain": [
<<<<<<< HEAD
       "2303"
      ]
     },
     "execution_count": 5,
=======
       "3579"
      ]
     },
     "execution_count": 7,
>>>>>>> 0de86babaa8d186a0c85834a7fa1a081aecf3193
     "metadata": {},
     "output_type": "execute_result"
    }
   ],
   "source": [
    "#Calculate new caloric intake. caloric_intake() calls method caloric_change() so can just call caloric_intake() to avoid redundancy\n",
    "BS_goals.caloric_intake()"
   ]
  },
  {
   "cell_type": "code",
   "execution_count": null,
   "id": "816f34eb-a791-432a-bd8b-4c898de0a76d",
   "metadata": {},
   "outputs": [
    {
     "name": "stdin",
     "output_type": "stream",
     "text": [
      "Enter your name: Ahmad\n"
     ]
    }
   ],
   "source": [
    "AA = PersonalSummary()\n",
    "AA.collect_info()"
   ]
  },
  {
   "cell_type": "code",
   "execution_count": null,
   "id": "d2c053ef-a10c-48d9-8b9e-20f64052b2f4",
   "metadata": {},
   "outputs": [],
   "source": []
  },
  {
   "cell_type": "code",
   "execution_count": null,
   "id": "d2c053ef-a10c-48d9-8b9e-20f64052b2f4",
   "metadata": {},
   "outputs": [],
   "source": []
  }
 ],
 "metadata": {
  "kernelspec": {
   "display_name": "Python 3 (ipykernel)",
   "language": "python",
   "name": "python3"
  },
  "language_info": {
   "codemirror_mode": {
    "name": "ipython",
    "version": 3
   },
   "file_extension": ".py",
   "mimetype": "text/x-python",
   "name": "python",
   "nbconvert_exporter": "python",
   "pygments_lexer": "ipython3",
   "version": "3.12.2"
  }
 },
 "nbformat": 4,
 "nbformat_minor": 5
}
