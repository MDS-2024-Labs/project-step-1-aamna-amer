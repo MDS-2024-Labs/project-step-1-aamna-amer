{
 "cells": [
  {
   "cell_type": "code",
   "execution_count": 10,
   "id": "afdfba29-b9ec-4170-b926-f8550c93d14d",
   "metadata": {},
   "outputs": [],
   "source": [
    "# In main_test.py\n",
    "from Test1.TestER import TestEnergyRequirements\n",
    "from Test1.TestG import TestGoals"
   ]
  },
  {
   "cell_type": "code",
   "execution_count": 11,
   "id": "83a1adc0-7b86-48fb-88bf-b1912300ca49",
   "metadata": {},
   "outputs": [
    {
     "name": "stderr",
     "output_type": "stream",
     "text": [
      "/var/folders/8n/wv_w9rps1lx52_4v0h5449y40000gn/T/ipykernel_6864/2893814477.py:4: DeprecationWarning: unittest.makeSuite() is deprecated and will be removed in Python 3.13. Please use unittest.TestLoader.loadTestsFromTestCase() instead.\n",
      "  suite.addTest(unittest.makeSuite(TestEnergyRequirements))\n",
      "/var/folders/8n/wv_w9rps1lx52_4v0h5449y40000gn/T/ipykernel_6864/2893814477.py:5: DeprecationWarning: unittest.makeSuite() is deprecated and will be removed in Python 3.13. Please use unittest.TestLoader.loadTestsFromTestCase() instead.\n",
      "  suite.addTest(unittest.makeSuite(TestGoals))\n",
      "test_calculate_TDEE_moderate_activity (Test1.TestER.TestEnergyRequirements.test_calculate_TDEE_moderate_activity) ... "
     ]
    },
    {
     "name": "stdout",
     "output_type": "stream",
     "text": [
      "Setting up the test class.\n",
      "Please enter Moderately Active for activity level\n",
      "Please pick the appropriate activity level:\n",
      "+-------------------+----------------------------------------------------+\n",
      "| Activity Level    | Description                                        |\n",
      "+===================+====================================================+\n",
      "| Sedentary         | little to no activity                              |\n",
      "+-------------------+----------------------------------------------------+\n",
      "| Lightly Active    | 1-3 days per week of light activity                |\n",
      "+-------------------+----------------------------------------------------+\n",
      "| Moderately Active | moderate exercise 3-5 days per week                |\n",
      "+-------------------+----------------------------------------------------+\n",
      "| Very Active       | rigorous exercise, 6-7 days per week               |\n",
      "+-------------------+----------------------------------------------------+\n",
      "| Extra Active      | professional athlete, labor job, 2-3 times per day |\n",
      "+-------------------+----------------------------------------------------+\n"
     ]
    },
    {
     "name": "stdin",
     "output_type": "stream",
     "text": [
      "Activity Level: Moderately Active\n"
     ]
    },
    {
     "name": "stderr",
     "output_type": "stream",
     "text": [
      "ok\n",
      "test_calculate_TDEE_sedentary_activity (Test1.TestER.TestEnergyRequirements.test_calculate_TDEE_sedentary_activity) ... "
     ]
    },
    {
     "name": "stdout",
     "output_type": "stream",
     "text": [
      "Your maintenance calories are  2558\n",
      "Please enter Sedentary for activity level\n",
      "Please pick the appropriate activity level:\n",
      "+-------------------+----------------------------------------------------+\n",
      "| Activity Level    | Description                                        |\n",
      "+===================+====================================================+\n",
      "| Sedentary         | little to no activity                              |\n",
      "+-------------------+----------------------------------------------------+\n",
      "| Lightly Active    | 1-3 days per week of light activity                |\n",
      "+-------------------+----------------------------------------------------+\n",
      "| Moderately Active | moderate exercise 3-5 days per week                |\n",
      "+-------------------+----------------------------------------------------+\n",
      "| Very Active       | rigorous exercise, 6-7 days per week               |\n",
      "+-------------------+----------------------------------------------------+\n",
      "| Extra Active      | professional athlete, labor job, 2-3 times per day |\n",
      "+-------------------+----------------------------------------------------+\n"
     ]
    },
    {
     "name": "stdin",
     "output_type": "stream",
     "text": [
      "Activity Level: Sedentary\n"
     ]
    },
    {
     "name": "stderr",
     "output_type": "stream",
     "text": [
      "ok\n",
      "test_calculate_TDEE_very_activity (Test1.TestER.TestEnergyRequirements.test_calculate_TDEE_very_activity) ... "
     ]
    },
    {
     "name": "stdout",
     "output_type": "stream",
     "text": [
      "Your maintenance calories are  1981\n",
      "Please enter Very Active for activity level\n",
      "Please pick the appropriate activity level:\n",
      "+-------------------+----------------------------------------------------+\n",
      "| Activity Level    | Description                                        |\n",
      "+===================+====================================================+\n",
      "| Sedentary         | little to no activity                              |\n",
      "+-------------------+----------------------------------------------------+\n",
      "| Lightly Active    | 1-3 days per week of light activity                |\n",
      "+-------------------+----------------------------------------------------+\n",
      "| Moderately Active | moderate exercise 3-5 days per week                |\n",
      "+-------------------+----------------------------------------------------+\n",
      "| Very Active       | rigorous exercise, 6-7 days per week               |\n",
      "+-------------------+----------------------------------------------------+\n",
      "| Extra Active      | professional athlete, labor job, 2-3 times per day |\n",
      "+-------------------+----------------------------------------------------+\n"
     ]
    },
    {
     "name": "stdin",
     "output_type": "stream",
     "text": [
      "Activity Level: Very Active\n"
     ]
    },
    {
     "name": "stderr",
     "output_type": "stream",
     "text": [
      "ok\n",
      "test_caloric_change_loss (Test1.TestG.TestGoals.test_caloric_change_loss) ... ok\n",
      "test_caloric_intake (Test1.TestG.TestGoals.test_caloric_intake) ... ok\n",
      "test_goal_setting_loss (Test1.TestG.TestGoals.test_goal_setting_loss) ... "
     ]
    },
    {
     "name": "stdout",
     "output_type": "stream",
     "text": [
      "Your maintenance calories are  2847\n",
      "Tearing down the test class.\n",
      "Setting up the test class for Goals.\n",
      "Your new daily caloric intake is  1514\n",
      "Please enter weight loss, 20 lbs, and 90 days\n"
     ]
    },
    {
     "name": "stdin",
     "output_type": "stream",
     "text": [
      "What is your main goal: weight loss or weight gain? weight loss\n",
      "How much weight do you want to lose? Please enter in lbs 20\n",
      "By when do you want to acheive this? Please answer in days 90\n"
     ]
    },
    {
     "name": "stderr",
     "output_type": "stream",
     "text": [
      "ok\n",
      "\n",
      "----------------------------------------------------------------------\n",
      "Ran 6 tests in 28.533s\n",
      "\n",
      "OK\n"
     ]
    },
    {
     "name": "stdout",
     "output_type": "stream",
     "text": [
      "Tearing down the test class for Goals.\n"
     ]
    }
   ],
   "source": [
    "def suite():\n",
    "    suite = unittest.TestSuite()\n",
    "\n",
    "    suite.addTest(unittest.makeSuite(TestEnergyRequirements))\n",
    "    suite.addTest(unittest.makeSuite(TestGoals))\n",
    "\n",
    "    return suite\n",
    "\n",
    "if __name__ == '__main__':\n",
    "    runner = unittest.TextTestRunner(verbosity=2)\n",
    "    runner.run(suite())"
   ]
  },
  {
   "cell_type": "code",
   "execution_count": null,
   "id": "1b90f785-44b0-4709-8d7e-368cee7ff626",
   "metadata": {},
   "outputs": [],
   "source": []
  }
 ],
 "metadata": {
  "kernelspec": {
   "display_name": "Python 3 (ipykernel)",
   "language": "python",
   "name": "python3"
  },
  "language_info": {
   "codemirror_mode": {
    "name": "ipython",
    "version": 3
   },
   "file_extension": ".py",
   "mimetype": "text/x-python",
   "name": "python",
   "nbconvert_exporter": "python",
   "pygments_lexer": "ipython3",
   "version": "3.12.2"
  }
 },
 "nbformat": 4,
 "nbformat_minor": 5
}
