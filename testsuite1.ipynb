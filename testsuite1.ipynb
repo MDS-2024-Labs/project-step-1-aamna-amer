{
 "cells": [
  {
   "cell_type": "code",
   "execution_count": 9,
   "id": "afdfba29-b9ec-4170-b926-f8550c93d14d",
   "metadata": {},
   "outputs": [],
   "source": [
    "# In main_test.py\n",
    "from Test1.TestER import TestEnergyRequirements\n",
    "from Test1.TestG import TestGoals"
   ]
  },
  {
   "cell_type": "code",
   "execution_count": null,
   "id": "83a1adc0-7b86-48fb-88bf-b1912300ca49",
   "metadata": {},
   "outputs": [],
   "source": [
    "def suite():\n",
    "    suite = unittest.TestSuite()\n",
    "\n",
    "    suite.addTest(unittest.makeSuite(TestEnergyRequirements))\n",
    "    suite.addTest(unittest.makeSuite(TestGoals))\n",
    "\n",
    "    return suite\n",
    "\n",
    "if __name__ == '__main__':\n",
    "    runner = unittest.TextTestRunner(verbosity=2)\n",
    "    runner.run(suite())"
   ]
  },
  {
   "cell_type": "code",
   "execution_count": null,
   "id": "1b90f785-44b0-4709-8d7e-368cee7ff626",
   "metadata": {},
   "outputs": [],
   "source": []
  }
 ],
 "metadata": {
  "kernelspec": {
   "display_name": "Python 3 (ipykernel)",
   "language": "python",
   "name": "python3"
  },
  "language_info": {
   "codemirror_mode": {
    "name": "ipython",
    "version": 3
   },
   "file_extension": ".py",
   "mimetype": "text/x-python",
   "name": "python",
   "nbconvert_exporter": "python",
   "pygments_lexer": "ipython3",
   "version": "3.12.2"
  }
 },
 "nbformat": 4,
 "nbformat_minor": 5
}
