{
 "cells": [
  {
   "cell_type": "code",
   "execution_count": 2,
   "id": "4d447295-a2e8-4c7b-9610-8bec10af5a56",
   "metadata": {},
   "outputs": [
    {
     "name": "stdout",
     "output_type": "stream",
     "text": [
      "Testing WorkoutSchedule...\n",
      "Generating workout schedule...\n",
      "Welcome to the Workout Schedule Generator!\n"
     ]
    },
    {
     "name": "stdin",
     "output_type": "stream",
     "text": [
      "How many minutes do you want to work out daily?  45\n",
      "How many days per week do you plan to work out?  5\n",
      "Do you prefer working out in the Morning, Afternoon, or Evening?  Afternoon\n",
      "What activity will you be doing?  Soccer\n"
     ]
    },
    {
     "name": "stdout",
     "output_type": "stream",
     "text": [
      "\n",
      "Workout schedule created successfully!\n",
      "Displaying workout schedule:\n",
      "+-------+------------+------------+-----------+\n",
      "|  Day  |  Activity  |    Time    |  Period   |\n",
      "+=======+============+============+===========+\n",
      "| Day 1 |   Soccer   | 45 minutes | Afternoon |\n",
      "+-------+------------+------------+-----------+\n",
      "| Day 2 |   Soccer   | 45 minutes | Afternoon |\n",
      "+-------+------------+------------+-----------+\n",
      "| Day 3 |   Soccer   | 45 minutes | Afternoon |\n",
      "+-------+------------+------------+-----------+\n",
      "| Day 4 |   Soccer   | 45 minutes | Afternoon |\n",
      "+-------+------------+------------+-----------+\n",
      "| Day 5 |   Soccer   | 45 minutes | Afternoon |\n",
      "+-------+------------+------------+-----------+\n",
      "Customizing workout schedule...\n",
      "\n",
      "Current Schedule:\n",
      "+-------+------------+------------+-----------+\n",
      "|  Day  |  Activity  |    Time    |  Period   |\n",
      "+=======+============+============+===========+\n",
      "| Day 1 |   Soccer   | 45 minutes | Afternoon |\n",
      "+-------+------------+------------+-----------+\n",
      "| Day 2 |   Soccer   | 45 minutes | Afternoon |\n",
      "+-------+------------+------------+-----------+\n",
      "| Day 3 |   Soccer   | 45 minutes | Afternoon |\n",
      "+-------+------------+------------+-----------+\n",
      "| Day 4 |   Soccer   | 45 minutes | Afternoon |\n",
      "+-------+------------+------------+-----------+\n",
      "| Day 5 |   Soccer   | 45 minutes | Afternoon |\n",
      "+-------+------------+------------+-----------+\n"
     ]
    },
    {
     "name": "stdin",
     "output_type": "stream",
     "text": [
      "\n",
      "Which day would you like to edit? (e.g., Day 1, Day 2). Enter 'End' to finish editing:  Day 2\n",
      "Enter the new activity for Day 2:  Badminton\n",
      "Enter the new time for Day 2 (e.g., 45 minutes):  45\n",
      "Enter the new time of day for Day 2 (e.g., Morning, Afternoon, Evening):  Morning\n"
     ]
    },
    {
     "name": "stdout",
     "output_type": "stream",
     "text": [
      "Day 2 has been updated successfully!\n"
     ]
    },
    {
     "name": "stdin",
     "output_type": "stream",
     "text": [
      "\n",
      "Which day would you like to edit? (e.g., Day 1, Day 2). Enter 'End' to finish editing:  End\n"
     ]
    },
    {
     "name": "stdout",
     "output_type": "stream",
     "text": [
      "Ending schedule customization.\n",
      "Updated workout schedule:\n",
      "+-------+------------+------------+-----------+\n",
      "|  Day  |  Activity  |    Time    |  Period   |\n",
      "+=======+============+============+===========+\n",
      "| Day 1 |   Soccer   | 45 minutes | Afternoon |\n",
      "+-------+------------+------------+-----------+\n",
      "| Day 2 | Badminton  |     45     |  Morning  |\n",
      "+-------+------------+------------+-----------+\n",
      "| Day 3 |   Soccer   | 45 minutes | Afternoon |\n",
      "+-------+------------+------------+-----------+\n",
      "| Day 4 |   Soccer   | 45 minutes | Afternoon |\n",
      "+-------+------------+------------+-----------+\n",
      "| Day 5 |   Soccer   | 45 minutes | Afternoon |\n",
      "+-------+------------+------------+-----------+\n"
     ]
    }
   ],
   "source": [
    "from package.subpckg2.WorkoutSchedule import WorkoutSchedule\n",
    "from package.subpckg2.Macros import Macros\n",
    "\n",
    "print(\"Testing WorkoutSchedule...\")\n",
    "\n",
    "schedule = WorkoutSchedule()\n",
    "\n",
    "# Generate workout schedule\n",
    "print(\"Generating workout schedule...\")\n",
    "schedule.generate_training_split()\n",
    "\n",
    "print(\"Displaying workout schedule:\")\n",
    "schedule.display_workout_schedule()\n",
    "\n",
    "# Customize workout schedule\n",
    "print(\"Customizing workout schedule...\")\n",
    "schedule.customize_workout_schedule()\n",
    "\n",
    "print(\"Updated workout schedule:\")\n",
    "schedule.display_workout_schedule()\n",
    "\n"
   ]
  },
  {
   "cell_type": "code",
   "execution_count": 1,
   "id": "5fc24a8a-373a-4756-9a9e-b86f2717c5de",
   "metadata": {},
   "outputs": [
    {
     "name": "stdout",
     "output_type": "stream",
     "text": [
      "\n",
      "Collecting personal information...\n"
     ]
    },
    {
     "name": "stdin",
     "output_type": "stream",
     "text": [
      "Enter your name: John Doe\n",
      "Enter your height in cm 70\n",
      "Enter your weight in kg 90\n",
      "Enter your age 25\n",
      "Enter your gender, M or F M\n"
     ]
    },
    {
     "name": "stdout",
     "output_type": "stream",
     "text": [
      "Please pick the appropriate activity level:\n",
      "+-------------------+----------------------------------------------------+\n",
      "| Activity Level    | Description                                        |\n",
      "+===================+====================================================+\n",
      "| Sedentary         | little to no activity                              |\n",
      "+-------------------+----------------------------------------------------+\n",
      "| Lightly Active    | 1-3 days per week of light activity                |\n",
      "+-------------------+----------------------------------------------------+\n",
      "| Moderately Active | moderate exercise 3-5 days per week                |\n",
      "+-------------------+----------------------------------------------------+\n",
      "| Very Active       | rigorous exercise, 6-7 days per week               |\n",
      "+-------------------+----------------------------------------------------+\n",
      "| Extra Active      | professional athlete, labor job, 2-3 times per day |\n",
      "+-------------------+----------------------------------------------------+\n"
     ]
    },
    {
     "name": "stdin",
     "output_type": "stream",
     "text": [
      "Activity Level: Very Active\n"
     ]
    },
    {
     "name": "stdout",
     "output_type": "stream",
     "text": [
      "Your maintenance calories are  2102\n"
     ]
    },
    {
     "name": "stdin",
     "output_type": "stream",
     "text": [
      "What is your main goal: weight loss or weight gain? weight gain\n",
      "How much weight do you want to gain? Please enter in lbs 10\n",
      "By when do you want to acheive this? Please answer in days 360\n"
     ]
    },
    {
     "name": "stdout",
     "output_type": "stream",
     "text": [
      "Your new daily caloric intake is  2199\n"
     ]
    },
    {
     "data": {
      "text/plain": [
       "2199"
      ]
     },
     "execution_count": 1,
     "metadata": {},
     "output_type": "execute_result"
    }
   ],
   "source": [
    "from package.subpckg1.Goals import Goals\n",
    "from package.subpckg2.Macros import Macros\n",
    "\n",
    "goals_instance = Goals()\n",
    "\n",
    "print(\"\\nCollecting personal information...\")\n",
    "goals_instance.collect_info()\n",
    "goals_instance.calculate_TDEE()\n",
    "goals_instance.goal_setting()\n",
    "goals_instance.caloric_intake()"
   ]
  },
  {
   "cell_type": "code",
   "execution_count": 2,
   "id": "bff28ee9-721d-4857-8afe-46b7a3e29b89",
   "metadata": {},
   "outputs": [
    {
     "name": "stdout",
     "output_type": "stream",
     "text": [
      "\n",
      "Calculating Macro Requirements...\n",
      "\n",
      "Macronutrient Requirements:\n",
      "+---------------+-------------+------------+\n",
      "|   Protein (g) |   Carbs (g) |   Fats (g) |\n",
      "+===============+=============+============+\n",
      "|           165 |         220 |         73 |\n",
      "+---------------+-------------+------------+\n",
      "\n",
      "Customizing Macro Distribution...\n",
      "\n",
      "Customizing macro distribution for meals.\n",
      "\n",
      "Customizing Protein distribution:\n"
     ]
    },
    {
     "name": "stdin",
     "output_type": "stream",
     "text": [
      "Enter the percentage of Protein for Breakfast (0-100):  20\n",
      "Enter the percentage of Protein for Lunch (0-100):  40\n",
      "Enter the percentage of Protein for Dinner (0-100):  40\n",
      "Enter the percentage of Protein for Snacks (0-100):  0\n"
     ]
    },
    {
     "name": "stdout",
     "output_type": "stream",
     "text": [
      "\n",
      "Customizing Carbs distribution:\n"
     ]
    },
    {
     "name": "stdin",
     "output_type": "stream",
     "text": [
      "Enter the percentage of Carbs for Breakfast (0-100):  20\n",
      "Enter the percentage of Carbs for Lunch (0-100):  40\n",
      "Enter the percentage of Carbs for Dinner (0-100):  40\n",
      "Enter the percentage of Carbs for Snacks (0-100):  0\n"
     ]
    },
    {
     "name": "stdout",
     "output_type": "stream",
     "text": [
      "\n",
      "Customizing Fats distribution:\n"
     ]
    },
    {
     "name": "stdin",
     "output_type": "stream",
     "text": [
      "Enter the percentage of Fats for Breakfast (0-100):  30\n",
      "Enter the percentage of Fats for Lunch (0-100):  20\n",
      "Enter the percentage of Fats for Dinner (0-100):  50\n",
      "Enter the percentage of Fats for Snacks (0-100):  0\n"
     ]
    },
    {
     "name": "stdout",
     "output_type": "stream",
     "text": [
      "Macro distribution customized successfully.\n",
      "\n",
      "Generating Nutrition Plan...\n",
      "\n",
      "Generated Nutrition Plan:\n",
      "+-----------+--------------+-------------+-----------+----------+\n",
      "| Meal      | Calories     | Protein     | Carbs     | Fats     |\n",
      "+===========+==============+=============+===========+==========+\n",
      "| Breakfast | 660 calories | 33g protein | 33g carbs | 22g fats |\n",
      "+-----------+--------------+-------------+-----------+----------+\n",
      "| Lunch     | 660 calories | 66g protein | 66g carbs | 15g fats |\n",
      "+-----------+--------------+-------------+-----------+----------+\n",
      "| Dinner    | 660 calories | 66g protein | 66g carbs | 37g fats |\n",
      "+-----------+--------------+-------------+-----------+----------+\n",
      "| Snacks    | 220 calories | 0g protein  | 0g carbs  | 0g fats  |\n",
      "+-----------+--------------+-------------+-----------+----------+\n"
     ]
    }
   ],
   "source": [
    "# Step 2: Create an instance of Macros with the Goals instance\n",
    "macros = Macros(goals_instance)\n",
    "\n",
    "# Step 3: Calculate macro requirements\n",
    "print(\"\\nCalculating Macro Requirements...\")\n",
    "macros.calculate_macro_requirements()\n",
    "\n",
    "# Step 4: Customize macro distribution\n",
    "print(\"\\nCustomizing Macro Distribution...\")\n",
    "macros.customize_macro_distribution()\n",
    "\n",
    "# Step 5: Generate a nutrition plan based on user goals and macro preferences\n",
    "print(\"\\nGenerating Nutrition Plan...\")\n",
    "macros.generate_nutrition_plan()"
   ]
  },
  {
   "cell_type": "code",
   "execution_count": null,
   "id": "fef55e48-035c-47e6-a5d3-01ba8637f23b",
   "metadata": {},
   "outputs": [],
   "source": []
  }
 ],
 "metadata": {
  "kernelspec": {
   "display_name": "Python 3 (ipykernel)",
   "language": "python",
   "name": "python3"
  },
  "language_info": {
   "codemirror_mode": {
    "name": "ipython",
    "version": 3
   },
   "file_extension": ".py",
   "mimetype": "text/x-python",
   "name": "python",
   "nbconvert_exporter": "python",
   "pygments_lexer": "ipython3",
   "version": "3.12.2"
  }
 },
 "nbformat": 4,
 "nbformat_minor": 5
}
